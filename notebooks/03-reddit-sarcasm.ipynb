{
 "cells": [
  {
   "cell_type": "code",
   "execution_count": 24,
   "metadata": {
    "collapsed": true
   },
   "outputs": [
    {
     "data": {
      "text/plain": "'/dvl/nlp/learning/bertology-workshop'"
     },
     "execution_count": 24,
     "metadata": {},
     "output_type": "execute_result"
    }
   ],
   "source": [
    "def bootstrap():\n",
    "    dir = %pwd\n",
    "    if dir.endswith('/bertology-workshop'):\n",
    "        # we're set\n",
    "        pass\n",
    "    elif dir.endswith('bertology-workshop/notebooks'):\n",
    "        # looks like we're inside jupyter\n",
    "        %cd ..\n",
    "    elif dir == '/content':\n",
    "        # looks like we're on colab\n",
    "        !git clone git://github.com:diunko/bertology-workshop\n",
    "        %cd bertology-workshop\n",
    "    else:\n",
    "        raise RuntimeError('I have to be launched from colab or from '\n",
    "                           'bertology-workshop/notebooks')\n",
    "    dir = %pwd\n",
    "    return dir\n",
    "\n",
    "bootstrap()"
   ]
  },
  {
   "cell_type": "code",
   "execution_count": 22,
   "outputs": [
    {
     "data": {
      "text/plain": "'/dvl/nlp/learning/bertology-workshop'"
     },
     "execution_count": 22,
     "metadata": {},
     "output_type": "execute_result"
    }
   ],
   "source": [],
   "metadata": {
    "collapsed": false,
    "pycharm": {
     "name": "#%%\n"
    }
   }
  }
 ],
 "metadata": {
  "kernelspec": {
   "display_name": "Python 3",
   "language": "python",
   "name": "python3"
  },
  "language_info": {
   "codemirror_mode": {
    "name": "ipython",
    "version": 2
   },
   "file_extension": ".py",
   "mimetype": "text/x-python",
   "name": "python",
   "nbconvert_exporter": "python",
   "pygments_lexer": "ipython2",
   "version": "2.7.6"
  }
 },
 "nbformat": 4,
 "nbformat_minor": 0
}