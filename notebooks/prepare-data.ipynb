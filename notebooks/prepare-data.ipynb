{
 "cells": [
  {
   "cell_type": "code",
   "execution_count": 1,
   "metadata": {
    "collapsed": true
   },
   "outputs": [
    {
     "data": {
      "text/plain": "'/dvl/nlp/learning/bertology-workshop/notebooks'"
     },
     "execution_count": 1,
     "metadata": {},
     "output_type": "execute_result"
    }
   ],
   "source": [
    "import numpy as np\n",
    "import pandas as pd\n",
    "from sklearn.model_selection import train_test_split\n",
    "\n",
    "%pwd"
   ]
  },
  {
   "cell_type": "code",
   "execution_count": 75,
   "outputs": [],
   "source": [
    "DATA_DIR = '../data/reddit-sarcasm'\n",
    "df_all = pd.read_csv(DATA_DIR+'/all.csv', sep='\\t')"
   ],
   "metadata": {
    "collapsed": false,
    "pycharm": {
     "name": "#%%\n"
    }
   }
  },
  {
   "cell_type": "code",
   "execution_count": 76,
   "outputs": [
    {
     "data": {
      "text/plain": "Index(['label', 'comment', 'author', 'subreddit', 'score', 'ups', 'downs',\n       'date', 'created_utc', 'parent_comment'],\n      dtype='object')"
     },
     "execution_count": 76,
     "metadata": {},
     "output_type": "execute_result"
    }
   ],
   "source": [
    "df_all.columns"
   ],
   "metadata": {
    "collapsed": false,
    "pycharm": {
     "name": "#%%\n"
    }
   }
  },
  {
   "cell_type": "code",
   "execution_count": 77,
   "outputs": [],
   "source": [
    "df_sub = df_all.groupby('label').apply(lambda x: x.sample(n=5000))\n",
    "df_sub.reset_index(drop=True, inplace=True)"
   ],
   "metadata": {
    "collapsed": false,
    "pycharm": {
     "name": "#%%\n"
    }
   }
  },
  {
   "cell_type": "code",
   "execution_count": 78,
   "outputs": [],
   "source": [
    "df_train, df_test_private = train_test_split(df_sub, test_size=0.2)"
   ],
   "metadata": {
    "collapsed": false,
    "pycharm": {
     "name": "#%%\n"
    }
   }
  },
  {
   "cell_type": "code",
   "execution_count": 128,
   "outputs": [],
   "source": [
    "df_test_public = df_test_private.drop(columns=['label'])\n",
    "\n",
    "df_prediction = df_test_private[['Id', 'label']]\n",
    "df_prediction\n",
    "\n",
    "df_sample_prediction = df_prediction.copy()\n",
    "df_sample_prediction['label'] = np.zeros((len(df_sample_prediction),), dtype=int)\n",
    "\n",
    "df_test_all = df_test_private[['Id','label', 'comment', 'author', 'subreddit', 'score', 'ups', 'downs',\n",
    "       'date', 'created_utc', 'parent_comment']]\n",
    "\n",
    "df_test_public = df_test_private[['Id','comment', 'author', 'subreddit', 'score', 'ups', 'downs',\n",
    "       'date', 'created_utc', 'parent_comment']]"
   ],
   "metadata": {
    "collapsed": false,
    "pycharm": {
     "name": "#%%\n"
    }
   }
  },
  {
   "cell_type": "code",
   "execution_count": 129,
   "outputs": [],
   "source": [
    "df_train.to_csv(DATA_DIR+'/train.csv',\n",
    "                sep=',',quotechar='\"', index=False)\n",
    "\n",
    "df_test_private.to_csv(DATA_DIR+'/test_private.csv',\n",
    "                       sep=',', index=False,\n",
    "                       quotechar='\"')\n",
    "\n",
    "df_test_all.to_csv(DATA_DIR+'/test_all.csv',\n",
    "                      sep=',', index=False,quotechar='\"')\n",
    "\n",
    "df_test_public.to_csv(DATA_DIR+'/test.csv',\n",
    "                      sep=',', index=False,quotechar='\"')\n",
    "\n",
    "df_prediction.to_csv(DATA_DIR+'/sample_100_submission.csv',\n",
    "                     sep=',', index=False,quotechar='\"')\n",
    "\n",
    "df_sample_prediction.to_csv(DATA_DIR+'/sample_submission.csv',\n",
    "                            sep=',', index=False,quotechar='\"')"
   ],
   "metadata": {
    "collapsed": false,
    "pycharm": {
     "name": "#%%\n"
    }
   }
  },
  {
   "cell_type": "code",
   "execution_count": 94,
   "outputs": [
    {
     "name": "stderr",
     "output_type": "stream",
     "text": [
      "/dvl/nlp/learning/bertology-workshop/.pyenv/lib/python3.6/site-packages/ipykernel_launcher.py:1: SettingWithCopyWarning: \n",
      "A value is trying to be set on a copy of a slice from a DataFrame.\n",
      "Try using .loc[row_indexer,col_indexer] = value instead\n",
      "\n",
      "See the caveats in the documentation: https://pandas.pydata.org/pandas-docs/stable/user_guide/indexing.html#returning-a-view-versus-a-copy\n",
      "  \"\"\"Entry point for launching an IPython kernel.\n"
     ]
    }
   ],
   "source": [
    "df_test_private['Id'] = df_test_private.index"
   ],
   "metadata": {
    "collapsed": false,
    "pycharm": {
     "name": "#%%\n"
    }
   }
  },
  {
   "cell_type": "code",
   "execution_count": 97,
   "outputs": [
    {
     "data": {
      "text/plain": "        Id  label\n52      52      0\n348    348      0\n3895  3895      0\n6448  6448      1\n1632  1632      0\n...    ...    ...\n8869  8869      1\n732    732      0\n185    185      0\n1187  1187      0\n7153  7153      1\n\n[2000 rows x 2 columns]",
      "text/html": "<div>\n<style scoped>\n    .dataframe tbody tr th:only-of-type {\n        vertical-align: middle;\n    }\n\n    .dataframe tbody tr th {\n        vertical-align: top;\n    }\n\n    .dataframe thead th {\n        text-align: right;\n    }\n</style>\n<table border=\"1\" class=\"dataframe\">\n  <thead>\n    <tr style=\"text-align: right;\">\n      <th></th>\n      <th>Id</th>\n      <th>label</th>\n    </tr>\n  </thead>\n  <tbody>\n    <tr>\n      <th>52</th>\n      <td>52</td>\n      <td>0</td>\n    </tr>\n    <tr>\n      <th>348</th>\n      <td>348</td>\n      <td>0</td>\n    </tr>\n    <tr>\n      <th>3895</th>\n      <td>3895</td>\n      <td>0</td>\n    </tr>\n    <tr>\n      <th>6448</th>\n      <td>6448</td>\n      <td>1</td>\n    </tr>\n    <tr>\n      <th>1632</th>\n      <td>1632</td>\n      <td>0</td>\n    </tr>\n    <tr>\n      <th>...</th>\n      <td>...</td>\n      <td>...</td>\n    </tr>\n    <tr>\n      <th>8869</th>\n      <td>8869</td>\n      <td>1</td>\n    </tr>\n    <tr>\n      <th>732</th>\n      <td>732</td>\n      <td>0</td>\n    </tr>\n    <tr>\n      <th>185</th>\n      <td>185</td>\n      <td>0</td>\n    </tr>\n    <tr>\n      <th>1187</th>\n      <td>1187</td>\n      <td>0</td>\n    </tr>\n    <tr>\n      <th>7153</th>\n      <td>7153</td>\n      <td>1</td>\n    </tr>\n  </tbody>\n</table>\n<p>2000 rows × 2 columns</p>\n</div>"
     },
     "execution_count": 97,
     "metadata": {},
     "output_type": "execute_result"
    }
   ],
   "source": [],
   "metadata": {
    "collapsed": false,
    "pycharm": {
     "name": "#%%\n"
    }
   }
  },
  {
   "cell_type": "code",
   "execution_count": 93,
   "outputs": [
    {
     "data": {
      "text/plain": "Index(['comment', 'author', 'subreddit', 'score', 'ups', 'downs', 'date',\n       'created_utc', 'parent_comment', 'Id'],\n      dtype='object')"
     },
     "execution_count": 93,
     "metadata": {},
     "output_type": "execute_result"
    }
   ],
   "source": [
    "df_test_public.columns\n",
    "\n"
   ],
   "metadata": {
    "collapsed": false,
    "pycharm": {
     "name": "#%%\n"
    }
   }
  }
 ],
 "metadata": {
  "kernelspec": {
   "display_name": "Python 3",
   "language": "python",
   "name": "python3"
  },
  "language_info": {
   "codemirror_mode": {
    "name": "ipython",
    "version": 2
   },
   "file_extension": ".py",
   "mimetype": "text/x-python",
   "name": "python",
   "nbconvert_exporter": "python",
   "pygments_lexer": "ipython2",
   "version": "2.7.6"
  }
 },
 "nbformat": 4,
 "nbformat_minor": 0
}